{
 "cells": [
  {
   "cell_type": "markdown",
   "id": "a14162c1-f981-41c7-82e1-f65942b05f48",
   "metadata": {},
   "source": [
    "**Python_Basics for ML**"
   ]
  },
  {
   "cell_type": "code",
   "execution_count": 1,
   "id": "53d594f1-ce0c-4b27-99d9-3ce82365bdb2",
   "metadata": {},
   "outputs": [
    {
     "name": "stdout",
     "output_type": "stream",
     "text": [
      "my name is fatima, and my age is 3\n"
     ]
    }
   ],
   "source": [
    "name=\"fatima\"\n",
    "age=3\n",
    "print(f\"my name is {name}, and my age is {age}\")\n"
   ]
  },
  {
   "cell_type": "code",
   "execution_count": 8,
   "id": "942d65f3-445d-4258-a03c-da620fa6b518",
   "metadata": {},
   "outputs": [
    {
     "data": {
      "text/plain": [
       "{'name': ['fatima', 'hamna', 'ahmad'], 'age': [2, 3, 4]}"
      ]
     },
     "execution_count": 8,
     "metadata": {},
     "output_type": "execute_result"
    }
   ],
   "source": [
    "person={\n",
    "    \"name\":[\"fatima\",\"hamna\",\"ahmad\"],\n",
    "    \"age\":[2,3,4]}\n",
    "person"
   ]
  },
  {
   "cell_type": "code",
   "execution_count": 23,
   "id": "198fb531-a9db-4cc2-bf30-d8d7ddc51e2c",
   "metadata": {},
   "outputs": [
    {
     "data": {
      "text/plain": [
       "{'people': [{'name': 'John', 'age': 25, 'city': 'New York'},\n",
       "  {'name': 'Anna', 'age': 30, 'city': 'Los Angeles'},\n",
       "  {'name': 'Mike', 'age': 35, 'city': 'Chicago'}]}"
      ]
     },
     "execution_count": 23,
     "metadata": {},
     "output_type": "execute_result"
    }
   ],
   "source": [
    "data = {\n",
    " \"people\": [\n",
    " {\"name\": \"John\", \"age\": 25, \"city\": \"New York\"},\n",
    " {\"name\": \"Anna\", \"age\": 30, \"city\": \"Los Angeles\"},\n",
    " {\"name\": \"Mike\", \"age\": 35, \"city\": \"Chicago\"}\n",
    " ]\n",
    "}\n",
    "data"
   ]
  },
  {
   "cell_type": "code",
   "execution_count": 15,
   "id": "8f19d8dc-c45e-4d11-afe1-c3c1459ddcde",
   "metadata": {},
   "outputs": [
    {
     "name": "stdout",
     "output_type": "stream",
     "text": [
      "JSON file 'General.json' created and data written successfully!\n"
     ]
    }
   ],
   "source": [
    "import json\n",
    "with open('people_data.json', mode='w') as file:\n",
    " json.dump(data, file, indent=4) # Write JSON with indentation for readability\n",
    "print(\"JSON file 'General.json' created and data written successfully!\")\n"
   ]
  },
  {
   "cell_type": "code",
   "execution_count": 28,
   "id": "a5b4f0a5-ebe0-471e-8370-6e941e83c7d0",
   "metadata": {},
   "outputs": [
    {
     "name": "stdout",
     "output_type": "stream",
     "text": [
      "CSV file 'General.csv' created and data written successfully!\n"
     ]
    }
   ],
   "source": [
    "import csv\n",
    "# Data to write (list of lists)\n",
    "data = [\n",
    " [\"Name\", \"Age\", \"City\"], # Header\n",
    " [\"John\", 25, \"New York\"],\n",
    " [\"Anna\", 30, \"Los Angeles\"],\n",
    " [\"Mike\", 35, \"Chicago\"]\n",
    "]\n",
    "# Creating and writing to a CSV file\n",
    "with open('General.csv', mode='w', newline='') as file:\n",
    " writer = csv.writer(file)\n",
    " writer.writerows(data) # Write multiple rows\n",
    "print(\"CSV file 'General.csv' created and data written successfully!\")\n"
   ]
  },
  {
   "cell_type": "code",
   "execution_count": 35,
   "id": "b2bdf60a-0d43-4f07-894a-4adbeb65d1f9",
   "metadata": {},
   "outputs": [
    {
     "name": "stdout",
     "output_type": "stream",
     "text": [
      "['Name', 'Age', 'City']\n",
      "['John', '25', 'New York']\n",
      "['Anna', '30', 'Los Angeles']\n",
      "['Mike', '35', 'Chicago']\n"
     ]
    }
   ],
   "source": [
    "with open('General.csv', mode='r') as file:\n",
    " reader = csv.reader(file)\n",
    " for row in reader:\n",
    "   print(row) # Print each row"
   ]
  },
  {
   "cell_type": "code",
   "execution_count": 25,
   "id": "9f89a53b-b245-4266-a28b-49f9146d9828",
   "metadata": {},
   "outputs": [
    {
     "name": "stdout",
     "output_type": "stream",
     "text": [
      "i love 34\n",
      "i love 35\n",
      "i love 36\n",
      "i love 29\n"
     ]
    }
   ],
   "source": [
    "marks=[34,35,36,29]\n",
    "for marks in marks:\n",
    "    print(f\"i love {marks}\")"
   ]
  },
  {
   "cell_type": "markdown",
   "id": "e4b11f2c-d1a2-470c-8e9d-68dc29291cdc",
   "metadata": {},
   "source": [
    "**_Task no 1:_**\n",
    "Python script that calculates the factorial of a given number."
   ]
  },
  {
   "cell_type": "code",
   "execution_count": 26,
   "id": "342f4774-7175-4d70-9ad9-f7cc9820788d",
   "metadata": {},
   "outputs": [
    {
     "name": "stdout",
     "output_type": "stream",
     "text": [
      "120\n"
     ]
    }
   ],
   "source": [
    "def factorial_iterative(n):\n",
    "    result = 1\n",
    "    for i in range(1, n + 1):\n",
    "        result *= i \n",
    "    return result\n",
    "print(factorial_iterative(5))"
   ]
  },
  {
   "cell_type": "markdown",
   "id": "9e459492-6445-4aa5-ba22-461f1e4120f3",
   "metadata": {},
   "source": [
    "**_Task no 02:_**\n",
    " Create a JSON file containing a list of items, read it, and print its contents"
   ]
  },
  {
   "cell_type": "code",
   "execution_count": 43,
   "id": "59b1d834-7266-40b2-840d-a84a9c2157a6",
   "metadata": {},
   "outputs": [
    {
     "name": "stdout",
     "output_type": "stream",
     "text": [
      "Contents of the JSON file:\n",
      "{\n",
      "          \"items\": [\n",
      "                    {\n",
      "                              \"id\": 1,\n",
      "                              \"name\": \"Apple\",\n",
      "                              \"price\": 0.5\n",
      "                    },\n",
      "                    {\n",
      "                              \"id\": 2,\n",
      "                              \"name\": \"Banana\",\n",
      "                              \"price\": 0.2\n",
      "                    },\n",
      "                    {\n",
      "                              \"id\": 3,\n",
      "                              \"name\": \"Cherry\",\n",
      "                              \"price\": 0.8\n",
      "                    }\n",
      "          ]\n",
      "}\n"
     ]
    }
   ],
   "source": [
    "import json\n",
    "data = {\n",
    "    \"items\": [\n",
    "        {\"id\": 1, \"name\": \"Apple\", \"price\": 0.5},\n",
    "        {\"id\": 2, \"name\": \"Banana\", \"price\": 0.2},\n",
    "        {\"id\": 3, \"name\": \"Cherry\", \"price\": 0.8}\n",
    "    ]\n",
    "}\n",
    "with open(\"items.json\", mode=\"w\") as file:\n",
    "    json.dump(data, file, indent=10)\n",
    "with open(\"items.json\", \"r\") as file:\n",
    "    contents = json.load(file)\n",
    "print(\"Contents of the JSON file:\")\n",
    "print(json.dumps(contents, indent=10))"
   ]
  },
  {
   "cell_type": "markdown",
   "id": "02c2cd12-33a9-4239-9752-3c1259482ac0",
   "metadata": {},
   "source": [
    "**_Task no 3:_**\n",
    " Document the stepsto open and execute a notebook in Jupyter"
   ]
  },
  {
   "cell_type": "markdown",
   "id": "84290df2-1509-40f6-96ff-46f5105d9484",
   "metadata": {},
   "source": [
    "Steps to Open and Execute a Notebook in Jupyter:\n",
    "\n",
    "**1**.Install Jupyter Notebook using pip install notebook \n",
    "\n",
    "**2**.Launch Jupyter by running jupyter notebook in the terminal.\n",
    "\n",
    "**3**.Click on the .ipynb file in the Jupyter file browser.\n",
    "\n",
    "**4**.Select a cell and press Shift + Enter or click the Run button.\n",
    "\n",
    "**5**.Save your notebook using the Save icon or press Ctrl + S "
   ]
  },
  {
   "cell_type": "code",
   "execution_count": null,
   "id": "2e359ede-1aa6-43c5-8ca0-63a63b45a74e",
   "metadata": {},
   "outputs": [],
   "source": []
  },
  {
   "cell_type": "code",
   "execution_count": null,
   "id": "a2afd392-7726-4eb1-b65f-5d7c277be2df",
   "metadata": {},
   "outputs": [],
   "source": []
  }
 ],
 "metadata": {
  "kernelspec": {
   "display_name": "Python 3 (ipykernel)",
   "language": "python",
   "name": "python3"
  },
  "language_info": {
   "codemirror_mode": {
    "name": "ipython",
    "version": 3
   },
   "file_extension": ".py",
   "mimetype": "text/x-python",
   "name": "python",
   "nbconvert_exporter": "python",
   "pygments_lexer": "ipython3",
   "version": "3.13.0"
  }
 },
 "nbformat": 4,
 "nbformat_minor": 5
}
